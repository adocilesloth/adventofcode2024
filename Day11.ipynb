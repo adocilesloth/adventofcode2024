{
 "cells": [
  {
   "cell_type": "code",
   "execution_count": 1,
   "id": "8e3c27a0",
   "metadata": {},
   "outputs": [],
   "source": [
    "import numpy as np\n",
    "from collections import defaultdict"
   ]
  },
  {
   "cell_type": "code",
   "execution_count": 2,
   "id": "03c8b5f6",
   "metadata": {},
   "outputs": [],
   "source": [
    "test = '125 17'"
   ]
  },
  {
   "cell_type": "markdown",
   "id": "05d172b5",
   "metadata": {},
   "source": [
    "# Part 1"
   ]
  },
  {
   "cell_type": "code",
   "execution_count": 3,
   "id": "db1c7215",
   "metadata": {},
   "outputs": [
    {
     "name": "stdout",
     "output_type": "stream",
     "text": [
      "22\n",
      "55312\n"
     ]
    }
   ],
   "source": [
    "def get_stones(data):\n",
    "    data = data.strip()\n",
    "    stones = data.split(' ')\n",
    "    return stones\n",
    "\n",
    "def rules(stone):\n",
    "    if int(stone) == 0:\n",
    "        stones = ['1']\n",
    "    \n",
    "    elif len(stone)%2 == 0:\n",
    "        split = len(stone)//2\n",
    "        stones = [stone[:split], stone[split:]]\n",
    "        while stones[0][0] == '0' and len(stones[0])>1:\n",
    "            stones[0] = stones[0][1:]\n",
    "        while stones[1][0] == '0' and len(stones[1])>1:\n",
    "            stones[1] = stones[1][1:]\n",
    "        \n",
    "    else:\n",
    "        stones = [str(int(stone)*2024)]\n",
    "        \n",
    "    return stones\n",
    "\n",
    "def blink_stone(stone, blinks, history):\n",
    "    stones = [stone]\n",
    "    for blink in range(0, blinks):\n",
    "        next_stones = []\n",
    "        for s in stones:\n",
    "            if s not in history.keys():\n",
    "                after_blink = rules(s)\n",
    "                history[s] = after_blink\n",
    "            next_stones += history[s]\n",
    "        stones = next_stones\n",
    "    return stones, history\n",
    "\n",
    "def blink_all_stones(stones, blinks):\n",
    "    history = {}\n",
    "    \n",
    "    stone_count = 0\n",
    "    \n",
    "    for stone in stones:\n",
    "        tmp_stones, history = blink_stone(stone, blinks, history)\n",
    "        stone_count += len(tmp_stones)\n",
    "\n",
    "    return stone_count\n",
    "\n",
    "def run(data, blinks):\n",
    "    stones = get_stones(data)\n",
    "    stone_count = blink_all_stones(stones, blinks)\n",
    "    \n",
    "    return stone_count\n",
    "\n",
    "print(run(test, 6))\n",
    "print(run(test, 25))"
   ]
  },
  {
   "cell_type": "code",
   "execution_count": 4,
   "id": "a36a6dae",
   "metadata": {},
   "outputs": [
    {
     "name": "stdout",
     "output_type": "stream",
     "text": [
      "Part 1 result: 213625\n"
     ]
    }
   ],
   "source": [
    "with open('input_day11.txt', 'r') as f:\n",
    "    data = f.read()\n",
    "    f.close()\n",
    "\n",
    "print('Part 1 result:', run(data, 25))"
   ]
  },
  {
   "cell_type": "code",
   "execution_count": 5,
   "id": "cec2721d",
   "metadata": {},
   "outputs": [],
   "source": [
    "# Part 2"
   ]
  },
  {
   "cell_type": "code",
   "execution_count": 6,
   "id": "7c60d936",
   "metadata": {},
   "outputs": [
    {
     "name": "stdout",
     "output_type": "stream",
     "text": [
      "22\n",
      "55312\n",
      "\n",
      "Part 1 result: 213625\n",
      "Part 2 result: 252442982856820\n"
     ]
    }
   ],
   "source": [
    "def blink_all_stones_dict(stones, blinks):\n",
    "    current_stones = defaultdict(int)\n",
    "    for stone in stones:\n",
    "        current_stones[stone] += 1\n",
    "        \n",
    "    for blink in range(0, blinks):\n",
    "        history = {}\n",
    "        next_stones = defaultdict(int)\n",
    "        \n",
    "        for stone in current_stones.keys():\n",
    "            tmp_stones, history = blink_stone(stone, 1, history)\n",
    "            tmp_stones, count = np.unique(tmp_stones, return_counts=True)\n",
    "            \n",
    "            for i in range(0, len(tmp_stones)):\n",
    "                next_stones[tmp_stones[i]] += current_stones[stone]*count[i]\n",
    "                \n",
    "        current_stones = next_stones\n",
    "        \n",
    "    stone_count = 0\n",
    "    for stone in current_stones.keys():\n",
    "        stone_count += current_stones[stone]\n",
    "        \n",
    "    return stone_count\n",
    "\n",
    "def run2(data, blinks):\n",
    "    stones = get_stones(data)\n",
    "    stone_count = blink_all_stones_dict(stones, blinks)\n",
    "    \n",
    "    return stone_count\n",
    "\n",
    "print(run2(test, 6))\n",
    "print(run2(test, 25))\n",
    "print()\n",
    "print('Part 1 result:', run2(data, 25))\n",
    "print('Part 2 result:', run2(data, 75))"
   ]
  },
  {
   "cell_type": "code",
   "execution_count": 7,
   "id": "cf6a7899",
   "metadata": {},
   "outputs": [],
   "source": []
  }
 ],
 "metadata": {
  "kernelspec": {
   "display_name": "Python 3",
   "language": "python",
   "name": "python3"
  },
  "language_info": {
   "codemirror_mode": {
    "name": "ipython",
    "version": 3
   },
   "file_extension": ".py",
   "mimetype": "text/x-python",
   "name": "python",
   "nbconvert_exporter": "python",
   "pygments_lexer": "ipython3",
   "version": "3.9.12"
  }
 },
 "nbformat": 4,
 "nbformat_minor": 5
}
