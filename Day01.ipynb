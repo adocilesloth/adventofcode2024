{
 "cells": [
  {
   "cell_type": "code",
   "execution_count": 1,
   "metadata": {},
   "outputs": [],
   "source": [
    "import numpy as np"
   ]
  },
  {
   "cell_type": "code",
   "execution_count": 2,
   "metadata": {},
   "outputs": [],
   "source": [
    "test = [[3,4],\n",
    "        [4,3],\n",
    "        [2,5],\n",
    "        [1,3],\n",
    "        [3,9],\n",
    "        [3,3]]\n",
    "test = np.array(test)"
   ]
  },
  {
   "cell_type": "code",
   "execution_count": 3,
   "metadata": {},
   "outputs": [
    {
     "name": "stdout",
     "output_type": "stream",
     "text": [
      "[3 4 2 1 3 3]\n",
      "[4 3 5 3 9 3]\n"
     ]
    }
   ],
   "source": [
    "def split_columns(data):\n",
    "    col1, col2 = np.split(data, 2, axis=1)\n",
    "    col1 = col1.flatten()\n",
    "    col2 = col2.flatten()\n",
    "    return col1, col2\n",
    "\n",
    "col1, col2 = split_columns(test)\n",
    "print(col1)\n",
    "print(col2)"
   ]
  },
  {
   "cell_type": "code",
   "execution_count": 4,
   "metadata": {},
   "outputs": [],
   "source": [
    "data = np.genfromtxt('input_day01.txt', dtype=int)\n",
    "col1, col2 = split_columns(data)"
   ]
  },
  {
   "cell_type": "code",
   "execution_count": 5,
   "metadata": {},
   "outputs": [
    {
     "name": "stdout",
     "output_type": "stream",
     "text": [
      "11\n"
     ]
    }
   ],
   "source": [
    "def part1(data):\n",
    "    col1, col2 = split_columns(data)\n",
    "    col1 = np.sort(col1)\n",
    "    col2 = np.sort(col2)\n",
    "    \n",
    "    diff = np.abs(col1 - col2)\n",
    "    return np.sum(diff)\n",
    "print(part1(test))"
   ]
  },
  {
   "cell_type": "code",
   "execution_count": 6,
   "metadata": {},
   "outputs": [
    {
     "name": "stdout",
     "output_type": "stream",
     "text": [
      "Part 1 result: 2066446\n"
     ]
    }
   ],
   "source": [
    "print('Part 1 result:', part1(data))"
   ]
  },
  {
   "cell_type": "code",
   "execution_count": 7,
   "metadata": {},
   "outputs": [
    {
     "name": "stdout",
     "output_type": "stream",
     "text": [
      "31\n"
     ]
    }
   ],
   "source": [
    "def part2(data):\n",
    "    col1, col2 = split_columns(data)\n",
    "    \n",
    "    score = 0\n",
    "    for i in range(0, len(col1)):\n",
    "        val = col1[i]\n",
    "        in_col2 = np.where(col2 == val)[0]\n",
    "        score += (val * len(in_col2))\n",
    "    return score\n",
    "print(part2(test))"
   ]
  },
  {
   "cell_type": "code",
   "execution_count": 8,
   "metadata": {},
   "outputs": [
    {
     "name": "stdout",
     "output_type": "stream",
     "text": [
      "Part 2 result: 24931009\n"
     ]
    }
   ],
   "source": [
    "print('Part 2 result:', part2(data))"
   ]
  },
  {
   "cell_type": "code",
   "execution_count": 15,
   "metadata": {},
   "outputs": [
    {
     "name": "stdout",
     "output_type": "stream",
     "text": [
      "31\n",
      "24931009\n"
     ]
    }
   ],
   "source": [
    "from collections import Counter\n",
    "\n",
    "def part2b(data):\n",
    "    col1, col2 = split_columns(data)\n",
    "    \n",
    "    z = Counter(col2)\n",
    "    score = 0\n",
    "    for i in range(0, len(col1)):\n",
    "        score += col1[i]*z[col1[i]]\n",
    "    return score\n",
    "    \n",
    "print(part2b(test))\n",
    "print(part2b(data))"
   ]
  },
  {
   "cell_type": "code",
   "execution_count": null,
   "metadata": {},
   "outputs": [],
   "source": []
  }
 ],
 "metadata": {
  "kernelspec": {
   "display_name": "Python 3",
   "language": "python",
   "name": "python3"
  },
  "language_info": {
   "codemirror_mode": {
    "name": "ipython",
    "version": 3
   },
   "file_extension": ".py",
   "mimetype": "text/x-python",
   "name": "python",
   "nbconvert_exporter": "python",
   "pygments_lexer": "ipython3",
   "version": "3.7.4"
  }
 },
 "nbformat": 4,
 "nbformat_minor": 2
}
