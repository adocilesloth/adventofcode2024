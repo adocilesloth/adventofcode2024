{
 "cells": [
  {
   "cell_type": "code",
   "execution_count": 1,
   "id": "8893e848",
   "metadata": {},
   "outputs": [],
   "source": [
    "import numpy as np"
   ]
  },
  {
   "cell_type": "code",
   "execution_count": 2,
   "id": "2c587cd6",
   "metadata": {},
   "outputs": [
    {
     "name": "stderr",
     "output_type": "stream",
     "text": [
      "/tmp/ipykernel_10866/709964854.py:15: VisibleDeprecationWarning: Creating an ndarray from ragged nested sequences (which is a list-or-tuple of lists-or-tuples-or ndarrays with different lengths or shapes) is deprecated. If you meant to do this, you must specify 'dtype=object' when creating the ndarray.\n",
      "  data = np.array(data)\n"
     ]
    }
   ],
   "source": [
    "test = np.array([[7,6,4,2,1],\n",
    "                 [1,2,7,8,9],\n",
    "                 [9,7,6,2,1],\n",
    "                 [1,3,2,4,5],\n",
    "                 [8,6,4,4,1],\n",
    "                 [1,3,6,7,9]])\n",
    "\n",
    "def get_data():\n",
    "    data = []\n",
    "    with open('input_day02.txt', 'r') as f:\n",
    "        for line in f:\n",
    "            level = line.split()\n",
    "            level = np.array(level)\n",
    "            data.append(level.astype(int))\n",
    "    data = np.array(data)\n",
    "    return data\n",
    "\n",
    "data = get_data()"
   ]
  },
  {
   "cell_type": "code",
   "execution_count": 3,
   "id": "dd05de42",
   "metadata": {},
   "outputs": [
    {
     "name": "stdout",
     "output_type": "stream",
     "text": [
      "2\n",
      "Part 1 result: 526\n"
     ]
    }
   ],
   "source": [
    "def part1(data):\n",
    "    safe = 0\n",
    "    for report in data:\n",
    "        rep = np.ediff1d(report)\n",
    "        \n",
    "        pve = np.where(rep > 0)[0]\n",
    "        nve = np.where(rep < 0)[0]\n",
    "        \n",
    "        if (len(pve) == len(rep) or len(nve) == len(rep)) == False:\n",
    "            continue\n",
    "            \n",
    "        rep = np.abs(rep)\n",
    "        big = np.where(rep > 3)[0]\n",
    "        if len(big) > 0:\n",
    "            continue\n",
    "            \n",
    "        safe += 1\n",
    "        \n",
    "    return safe\n",
    "\n",
    "print(part1(test))\n",
    "print('Part 1 result:', part1(data))"
   ]
  },
  {
   "cell_type": "code",
   "execution_count": 4,
   "id": "9e69dfa4",
   "metadata": {},
   "outputs": [],
   "source": [
    "def is_safe(report):\n",
    "    rep = np.ediff1d(report)\n",
    "        \n",
    "    pve = np.where(rep > 0)[0]\n",
    "    nve = np.where(rep < 0)[0]\n",
    "    big = np.where(np.abs(rep) > 3)[0]\n",
    "    \n",
    "    if (len(pve) == len(rep) or len(nve) == len(rep)) and len(big) == 0:\n",
    "        return True\n",
    "    return False"
   ]
  },
  {
   "cell_type": "code",
   "execution_count": 5,
   "id": "9dffac1c",
   "metadata": {},
   "outputs": [
    {
     "name": "stdout",
     "output_type": "stream",
     "text": [
      "2\n",
      "Part 1 result: 526\n"
     ]
    }
   ],
   "source": [
    "def part1b(data):\n",
    "    safe = 0\n",
    "    for report in data:\n",
    "        if is_safe(report):\n",
    "            safe += 1\n",
    "    return safe\n",
    "\n",
    "print(part1(test))\n",
    "print('Part 1 result:', part1b(data))"
   ]
  },
  {
   "cell_type": "code",
   "execution_count": 6,
   "id": "fbb8dc13",
   "metadata": {},
   "outputs": [
    {
     "name": "stdout",
     "output_type": "stream",
     "text": [
      "4\n",
      "Part 2 result: 566\n"
     ]
    }
   ],
   "source": [
    "def part2(data):\n",
    "    safe = 0\n",
    "    for report in data:\n",
    "        if is_safe(report):\n",
    "            safe += 1\n",
    "            continue\n",
    "            \n",
    "        for i in range(0, len(report)):\n",
    "            if is_safe(np.append(report[:i], report[i+1:])):\n",
    "                safe += 1\n",
    "                break\n",
    "            \n",
    "    return safe\n",
    "            \n",
    "print(part2(test))\n",
    "print('Part 2 result:', part2(data))"
   ]
  },
  {
   "cell_type": "code",
   "execution_count": null,
   "id": "010794c3",
   "metadata": {},
   "outputs": [],
   "source": []
  }
 ],
 "metadata": {
  "kernelspec": {
   "display_name": "Python 3",
   "language": "python",
   "name": "python3"
  },
  "language_info": {
   "codemirror_mode": {
    "name": "ipython",
    "version": 3
   },
   "file_extension": ".py",
   "mimetype": "text/x-python",
   "name": "python",
   "nbconvert_exporter": "python",
   "pygments_lexer": "ipython3",
   "version": "3.9.12"
  }
 },
 "nbformat": 4,
 "nbformat_minor": 5
}
