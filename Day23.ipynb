{
 "cells": [
  {
   "cell_type": "code",
   "execution_count": 1,
   "metadata": {},
   "outputs": [],
   "source": [
    "from collections import defaultdict, deque\n",
    "from copy import deepcopy"
   ]
  },
  {
   "cell_type": "code",
   "execution_count": 2,
   "metadata": {},
   "outputs": [],
   "source": [
    "test = ['kh-tc',\n",
    "        'qp-kh',\n",
    "        'de-cg',\n",
    "        'ka-co',\n",
    "        'yn-aq',\n",
    "        'qp-ub',\n",
    "        'cg-tb',\n",
    "        'vc-aq',\n",
    "        'tb-ka',\n",
    "        'wh-tc',\n",
    "        'yn-cg',\n",
    "        'kh-ub',\n",
    "        'ta-co',\n",
    "        'de-co',\n",
    "        'tc-td',\n",
    "        'tb-wq',\n",
    "        'wh-td',\n",
    "        'ta-ka',\n",
    "        'td-qp',\n",
    "        'aq-cg',\n",
    "        'wq-ub',\n",
    "        'ub-vc',\n",
    "        'de-ta',\n",
    "        'wq-aq',\n",
    "        'wq-vc',\n",
    "        'wh-yn',\n",
    "        'ka-de',\n",
    "        'kh-ta',\n",
    "        'co-tc',\n",
    "        'wh-qp',\n",
    "        'tb-vc',\n",
    "        'td-yn']"
   ]
  },
  {
   "cell_type": "code",
   "execution_count": 3,
   "metadata": {},
   "outputs": [
    {
     "name": "stdout",
     "output_type": "stream",
     "text": [
      "Part 1 result: 7\n"
     ]
    }
   ],
   "source": [
    "def get_graph(data):\n",
    "    graph = defaultdict(list)\n",
    "    \n",
    "    for line in data:\n",
    "        line = line.rstrip()\n",
    "        a, b = line.split('-')\n",
    "        if b not in graph[a]:\n",
    "            graph[a].append(b)\n",
    "        if a not in graph[b]:\n",
    "            graph[b].append(a)\n",
    "            \n",
    "    return graph\n",
    "\n",
    "def DFS(graph, start, cur_pos, cur_path, paths, distance):\n",
    "    cur_path.append(cur_pos)\n",
    "    \n",
    "    if len(cur_path) > distance:\n",
    "        return paths\n",
    "    \n",
    "    for nxt_pos in graph[cur_pos]:\n",
    "        if nxt_pos not in cur_path:\n",
    "            paths = DFS(graph, start, nxt_pos, deepcopy(cur_path), paths, distance)\n",
    "            \n",
    "        elif nxt_pos == start:\n",
    "            if len(cur_path) == distance:\n",
    "                cur_path.sort()\n",
    "                if tuple(cur_path) not in paths:\n",
    "                    paths.append(tuple(cur_path))\n",
    "                \n",
    "            \n",
    "    return paths\n",
    "    \n",
    "\n",
    "def get_loops(graph, n=3):\n",
    "    nodes = list(graph.keys())\n",
    "    loops = []\n",
    "    for node in nodes:\n",
    "        loops = DFS(graph, node, node, [], loops, n)\n",
    "        \n",
    "    return loops\n",
    "\n",
    "def count_t(loops):\n",
    "    num_t = 0\n",
    "    for loop in loops:\n",
    "        for com in loop:\n",
    "            if com[0] == 't':\n",
    "                num_t += 1\n",
    "                break\n",
    "    return num_t\n",
    "\n",
    "def part1(data):\n",
    "    graph = get_graph(data)\n",
    "    loops = get_loops(graph)\n",
    "    num_t = count_t(loops)\n",
    "    \n",
    "    print('Part 1 result:', num_t)\n",
    "    \n",
    "part1(test)"
   ]
  },
  {
   "cell_type": "code",
   "execution_count": 4,
   "metadata": {},
   "outputs": [
    {
     "name": "stdout",
     "output_type": "stream",
     "text": [
      "Part 1 result: 1170\n"
     ]
    }
   ],
   "source": [
    "with open('input_day23.txt', 'r') as f:\n",
    "    data = f.readlines()\n",
    "    f.close()\n",
    "    \n",
    "part1(data)"
   ]
  },
  {
   "cell_type": "code",
   "execution_count": 5,
   "metadata": {},
   "outputs": [
    {
     "name": "stdout",
     "output_type": "stream",
     "text": [
      "Part 2 result: co,de,ka,ta\n"
     ]
    }
   ],
   "source": [
    "def BronKerbosch(graph, nodes, cur_clique=[], skip=[], cliques=[]):\n",
    "    if len(nodes) == 0 and len(skip) == 0:\n",
    "        cur_clique.sort()\n",
    "        cur_clique = tuple(cur_clique)\n",
    "        if cur_clique not in cliques:\n",
    "            cliques.append(cur_clique)\n",
    "        return cliques\n",
    "    \n",
    "    while len(nodes):\n",
    "        node = nodes.pop()\n",
    "        nxt_clique = cur_clique+[node]\n",
    "        nxt_nodes = [n for n in nodes if n in graph[node]]\n",
    "        nxt_nodes = deque(nxt_nodes)\n",
    "        nxt_skip = [n for n in skip if n in graph[node]]\n",
    "        cliques = BronKerbosch(graph, nxt_nodes, nxt_clique, nxt_skip, cliques)\n",
    "        \n",
    "        skip.append(node)\n",
    "        \n",
    "    return cliques\n",
    "\n",
    "def get_largest_clique(cliques):\n",
    "    big = 0\n",
    "    largest = None\n",
    "    for clique in cliques:\n",
    "        if len(clique) > big:\n",
    "            big = len(clique)\n",
    "            largest = clique\n",
    "    return largest\n",
    "    \n",
    "\n",
    "def part2(data):\n",
    "    graph = get_graph(data)\n",
    "    nodes = list(graph.keys())\n",
    "    nodes = deque(nodes)\n",
    "    \n",
    "    cliques = BronKerbosch(graph, nodes)\n",
    "    largest = get_largest_clique(cliques)\n",
    "    \n",
    "    print('Part 2 result:', ','.join(largest))\n",
    "    \n",
    "part2(test)"
   ]
  },
  {
   "cell_type": "code",
   "execution_count": 6,
   "metadata": {},
   "outputs": [
    {
     "name": "stdout",
     "output_type": "stream",
     "text": [
      "Part 2 result: bo,dd,eq,ik,lo,lu,ph,ro,rr,rw,uo,wx,yg\n"
     ]
    }
   ],
   "source": [
    "with open('input_day23.txt', 'r') as f:\n",
    "    data = f.readlines()\n",
    "    f.close()\n",
    "    \n",
    "part2(data)"
   ]
  },
  {
   "cell_type": "code",
   "execution_count": null,
   "metadata": {},
   "outputs": [],
   "source": []
  }
 ],
 "metadata": {
  "kernelspec": {
   "display_name": "Python 3",
   "language": "python",
   "name": "python3"
  },
  "language_info": {
   "codemirror_mode": {
    "name": "ipython",
    "version": 3
   },
   "file_extension": ".py",
   "mimetype": "text/x-python",
   "name": "python",
   "nbconvert_exporter": "python",
   "pygments_lexer": "ipython3",
   "version": "3.7.4"
  }
 },
 "nbformat": 4,
 "nbformat_minor": 2
}
