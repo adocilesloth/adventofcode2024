{
 "cells": [
  {
   "cell_type": "code",
   "execution_count": 1,
   "id": "db20d3c6",
   "metadata": {},
   "outputs": [],
   "source": [
    "import numpy as np\n",
    "from collections import deque\n",
    "from copy import deepcopy"
   ]
  },
  {
   "cell_type": "code",
   "execution_count": 2,
   "id": "efb3770a",
   "metadata": {},
   "outputs": [],
   "source": [
    "test = ['89010123',\n",
    "        '78121874',\n",
    "        '87430965',\n",
    "        '96549874',\n",
    "        '45678903',\n",
    "        '32019012',\n",
    "        '01329801',\n",
    "        '10456732']"
   ]
  },
  {
   "cell_type": "markdown",
   "id": "df300bf7",
   "metadata": {},
   "source": [
    "# Part 1"
   ]
  },
  {
   "cell_type": "code",
   "execution_count": 3,
   "id": "8eea11e5",
   "metadata": {},
   "outputs": [
    {
     "name": "stdout",
     "output_type": "stream",
     "text": [
      "36\n"
     ]
    }
   ],
   "source": [
    "def get_graph(data):\n",
    "    graph = []\n",
    "    for line in data:\n",
    "        line = line.strip()\n",
    "        graph.append(list(line))\n",
    "    graph = np.array(graph).astype(int)\n",
    "    return graph\n",
    "\n",
    "def in_graph(graph, pos):\n",
    "    if pos[0] < 0 or pos[0] >= len(graph):\n",
    "        return False\n",
    "    if pos[1] < 0 or pos[1] >= len(graph[pos[0]]):\n",
    "        return False\n",
    "    return True\n",
    "\n",
    "def BFS(graph, start):\n",
    "    dxdy = [[-1,0],[0,1],[1,0],[0,-1]]\n",
    "    queue = deque([start])\n",
    "    \n",
    "    dist = {start:0}\n",
    "    score = 0\n",
    "    \n",
    "    while len(queue):\n",
    "        cur_pos = queue.popleft()\n",
    "        cur_val = graph[cur_pos[0]][cur_pos[1]]\n",
    "        cur_dst = dist[cur_pos]\n",
    "        \n",
    "        for xy in dxdy:\n",
    "            nxt_pos = (cur_pos[0]+xy[0], cur_pos[1]+xy[1])\n",
    "            if in_graph(graph, nxt_pos) == False:\n",
    "                continue\n",
    "                \n",
    "            nxt_val = graph[nxt_pos[0]][nxt_pos[1]]\n",
    "            if nxt_val - cur_val != 1:\n",
    "                continue\n",
    "            \n",
    "            nxt_dst = cur_dst+1\n",
    "            if nxt_pos in dist.keys():\n",
    "                if dist[nxt_pos] > nxt_dst:\n",
    "                    dist[nxt_pos] = nxt_dst\n",
    "            else:\n",
    "                if nxt_val != 9:\n",
    "                    queue.append(nxt_pos)\n",
    "                else:\n",
    "                    score += 1\n",
    "                dist[nxt_pos] = nxt_dst\n",
    "                \n",
    "    return score\n",
    "\n",
    "def part1(data):\n",
    "    graph = get_graph(data)\n",
    "    trailheads = np.where(graph == 0)\n",
    "    \n",
    "    total_score = 0\n",
    "    for i in range(0, len(trailheads[0])):\n",
    "        score = BFS(graph, (trailheads[0][i], trailheads[1][i]))\n",
    "        total_score += score\n",
    "        \n",
    "    return total_score\n",
    "\n",
    "print(part1(test))"
   ]
  },
  {
   "cell_type": "code",
   "execution_count": 4,
   "id": "8af7bf04",
   "metadata": {},
   "outputs": [
    {
     "name": "stdout",
     "output_type": "stream",
     "text": [
      "Part 1 result: 510\n"
     ]
    }
   ],
   "source": [
    "with open('input_day10.txt', 'r') as f:\n",
    "    data = f.readlines()\n",
    "    f.close()\n",
    "\n",
    "print('Part 1 result:', part1(data))"
   ]
  },
  {
   "cell_type": "markdown",
   "id": "26d93bbe",
   "metadata": {},
   "source": [
    "# Part 2"
   ]
  },
  {
   "cell_type": "code",
   "execution_count": 5,
   "id": "c5255251",
   "metadata": {},
   "outputs": [
    {
     "name": "stdout",
     "output_type": "stream",
     "text": [
      "81\n",
      "Part 2 result: 1058\n"
     ]
    }
   ],
   "source": [
    "def DFS(graph, cur_pos, ends):\n",
    "    dxdy = [[-1,0],[0,1],[1,0],[0,-1]]\n",
    "    \n",
    "    cur_val = graph[cur_pos[0]][cur_pos[1]]\n",
    "    \n",
    "    for xy in dxdy:\n",
    "        nxt_pos = (cur_pos[0]+xy[0], cur_pos[1]+xy[1])\n",
    "        if in_graph(graph, nxt_pos):\n",
    "            nxt_val = graph[nxt_pos[0]][nxt_pos[1]]\n",
    "            if nxt_val - cur_val == 1:\n",
    "                if nxt_val == 9:\n",
    "                    ends.append(nxt_pos)\n",
    "                else:\n",
    "                    DFS(graph, nxt_pos, ends)\n",
    "    return\n",
    "\n",
    "def part2(data):\n",
    "    graph = get_graph(data)\n",
    "    trailheads = np.where(graph == 0)\n",
    "    \n",
    "    total_rating = 0\n",
    "    for i in range(0, len(trailheads[0])):\n",
    "        ends = []\n",
    "        DFS(graph, (trailheads[0][i], trailheads[1][i]), ends)\n",
    "        total_rating += len(ends)\n",
    "        \n",
    "    return total_rating\n",
    "        \n",
    "print(part2(test))\n",
    "print('Part 2 result:', part2(data))"
   ]
  },
  {
   "cell_type": "markdown",
   "id": "5916168a",
   "metadata": {},
   "source": [
    "# Part 1 and 2"
   ]
  },
  {
   "cell_type": "code",
   "execution_count": 6,
   "id": "f75f941d",
   "metadata": {},
   "outputs": [
    {
     "name": "stdout",
     "output_type": "stream",
     "text": [
      "Part 1 result: 36\n",
      "Part 2 result: 81\n",
      "\n",
      "Part 1 result: 510\n",
      "Part 2 result: 1058\n"
     ]
    }
   ],
   "source": [
    "def part1_and_2(data):\n",
    "    graph = get_graph(data)\n",
    "    trailheads = np.where(graph == 0)\n",
    "    \n",
    "    total_score = 0\n",
    "    total_rating = 0\n",
    "    for i in range(0, len(trailheads[0])):\n",
    "        score = BFS(graph, (trailheads[0][i], trailheads[1][i]))\n",
    "        total_score += score\n",
    "        \n",
    "        ends = []\n",
    "        DFS(graph, (trailheads[0][i], trailheads[1][i]), ends)\n",
    "        total_rating += len(ends)\n",
    "        \n",
    "    print('Part 1 result:', total_score)\n",
    "    print('Part 2 result:', total_rating)\n",
    "    \n",
    "part1_and_2(test)\n",
    "print()\n",
    "part1_and_2(data)"
   ]
  },
  {
   "cell_type": "code",
   "execution_count": null,
   "id": "501a8391",
   "metadata": {},
   "outputs": [],
   "source": []
  }
 ],
 "metadata": {
  "kernelspec": {
   "display_name": "Python 3",
   "language": "python",
   "name": "python3"
  },
  "language_info": {
   "codemirror_mode": {
    "name": "ipython",
    "version": 3
   },
   "file_extension": ".py",
   "mimetype": "text/x-python",
   "name": "python",
   "nbconvert_exporter": "python",
   "pygments_lexer": "ipython3",
   "version": "3.9.12"
  }
 },
 "nbformat": 4,
 "nbformat_minor": 5
}
