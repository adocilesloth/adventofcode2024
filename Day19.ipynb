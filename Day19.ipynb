{
 "cells": [
  {
   "cell_type": "code",
   "execution_count": 1,
   "metadata": {},
   "outputs": [],
   "source": [
    "from copy import deepcopy\n",
    "from collections import deque, defaultdict"
   ]
  },
  {
   "cell_type": "code",
   "execution_count": 2,
   "metadata": {},
   "outputs": [],
   "source": [
    "test = ['r, wr, b, g, bwu, rb, gb, br',\n",
    "        '',\n",
    "        'brwrr',\n",
    "        'bggr',\n",
    "        'gbbr',\n",
    "        'rrbgbr',\n",
    "        'ubwu',\n",
    "        'bwurrg',\n",
    "        'brgr',\n",
    "        'bbrgwb']"
   ]
  },
  {
   "cell_type": "code",
   "execution_count": 3,
   "metadata": {},
   "outputs": [
    {
     "name": "stdout",
     "output_type": "stream",
     "text": [
      "Part 1 result: 6\n"
     ]
    }
   ],
   "source": [
    "def count_towels(towels, target, display, count=0):\n",
    "    for t in towels:\n",
    "        new_display = display+t\n",
    "        \n",
    "        if new_display == target:\n",
    "            count += 1\n",
    "            return count\n",
    "        \n",
    "        elif len(new_display) > len(target):\n",
    "            continue\n",
    "        elif new_display != target[:len(new_display)]:\n",
    "            continue\n",
    "            \n",
    "        count = count_towels(towels, target, deepcopy(new_display), count)\n",
    "    return count\n",
    "    \n",
    "\n",
    "def get_towels(data):\n",
    "    towels = data[0].strip().split(', ')\n",
    "    towel_ways = defaultdict(lambda:1)\n",
    "    for t in towels:\n",
    "        towel_ways[t] = count_towels(towels, t, '')\n",
    "    \n",
    "    targets = data[2:]\n",
    "    for i in range(0, len(targets)):\n",
    "        targets[i] = targets[i].strip()\n",
    "    #targets = sorted(targets, key=len, reverse=True)\n",
    "    #targets.reverse()\n",
    "        \n",
    "    return towels, targets, towel_ways\n",
    "\n",
    "def DFS(towels, target, display, can_solve, cannot_solve):\n",
    "    for t in towels:\n",
    "        new_display = display+t\n",
    "        #if new_display not in can_solve:\n",
    "        #    can_solve.append(new_display)\n",
    "        \n",
    "        if new_display == target:\n",
    "            return True, can_solve, cannot_solve\n",
    "        \n",
    "        elif len(new_display) > len(target):\n",
    "            continue\n",
    "        elif new_display != target[:len(new_display)]:\n",
    "            continue\n",
    "            \n",
    "        elif target[len(new_display):] in can_solve:\n",
    "            can_solve.append(target[:len(new_display)])\n",
    "            can_solve.append(target)\n",
    "            return True, can_solve, cannot_solve\n",
    "        \n",
    "        elif target[len(new_display):] in cannot_solve:\n",
    "            continue\n",
    "        \n",
    "        found, can_solve, cannot_solve = DFS(towels, target, deepcopy(new_display),\n",
    "                                             can_solve, cannot_solve)\n",
    "        if found:\n",
    "            can_solve.append(new_display)\n",
    "            return True, can_solve, cannot_solve\n",
    "        else:\n",
    "            cannot_solve.append(target[len(new_display):])\n",
    "        \n",
    "    return False, can_solve, cannot_solve\n",
    "\n",
    "def part1(data):\n",
    "    towels, targets, towel_ways = get_towels(data)\n",
    "    \n",
    "    count = 0\n",
    "    can_solve = []\n",
    "    cannot_solve = []\n",
    "    failed = []\n",
    "    for i, target in enumerate(targets):\n",
    "        #print(i, 'of', len(targets))\n",
    "        found, can_solve, cannot_solve = DFS(towels, target, '', can_solve, cannot_solve)\n",
    "        \n",
    "        if found:\n",
    "            count += 1\n",
    "        else:\n",
    "            failed.append(i)\n",
    "            \n",
    "    print('Part 1 result:', count)\n",
    "    \n",
    "part1(test)"
   ]
  },
  {
   "cell_type": "code",
   "execution_count": 4,
   "metadata": {},
   "outputs": [
    {
     "name": "stdout",
     "output_type": "stream",
     "text": [
      "Part 1 result: 306\n"
     ]
    }
   ],
   "source": [
    "with open('input_day19.txt', 'r') as f:\n",
    "    data = f.readlines()\n",
    "    f.close()\n",
    "    \n",
    "part1(data)"
   ]
  },
  {
   "cell_type": "code",
   "execution_count": null,
   "metadata": {},
   "outputs": [],
   "source": []
  }
 ],
 "metadata": {
  "kernelspec": {
   "display_name": "Python 3",
   "language": "python",
   "name": "python3"
  },
  "language_info": {
   "codemirror_mode": {
    "name": "ipython",
    "version": 3
   },
   "file_extension": ".py",
   "mimetype": "text/x-python",
   "name": "python",
   "nbconvert_exporter": "python",
   "pygments_lexer": "ipython3",
   "version": "3.7.4"
  }
 },
 "nbformat": 4,
 "nbformat_minor": 2
}
