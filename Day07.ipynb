{
 "cells": [
  {
   "cell_type": "code",
   "execution_count": 1,
   "metadata": {},
   "outputs": [],
   "source": [
    "import numpy as np\n",
    "from copy import deepcopy"
   ]
  },
  {
   "cell_type": "code",
   "execution_count": 2,
   "metadata": {},
   "outputs": [],
   "source": [
    "test = ['190: 10 19',\n",
    "        '3267: 81 40 27',\n",
    "        '83: 17 5',\n",
    "        '156: 15 6',\n",
    "        '7290: 6 8 6 15',\n",
    "        '161011: 16 10 13',\n",
    "        '192: 17 8 14',\n",
    "        '21037: 9 7 18 13',\n",
    "        '292: 11 6 16 20']"
   ]
  },
  {
   "cell_type": "code",
   "execution_count": 3,
   "metadata": {},
   "outputs": [
    {
     "name": "stdout",
     "output_type": "stream",
     "text": [
      "3749\n",
      "11387\n"
     ]
    }
   ],
   "source": [
    "def parse_data(data):\n",
    "    eqns = {}\n",
    "    for line in data:\n",
    "        line = line.rstrip()\n",
    "        target, values = line.split(':')\n",
    "        \n",
    "        values = values.strip()\n",
    "        values = values.split(' ')\n",
    "        eqns[int(target)] = np.array(values).astype(int).tolist()\n",
    "        \n",
    "    return eqns\n",
    "    \n",
    "def search(target, val, values, op, part=1):\n",
    "    num = values.pop(0)\n",
    "    if op == 0:\n",
    "        val *= num\n",
    "    elif op == 1 or op == -1:\n",
    "        val += num\n",
    "    elif op == 2:\n",
    "        val = int(str(val)+str(num))\n",
    "        \n",
    "    if val > target:\n",
    "        return False\n",
    "    elif len(values) == 0:\n",
    "        if val == target:\n",
    "            return True\n",
    "        else:\n",
    "            return False\n",
    "        \n",
    "    state = search(target, val, deepcopy(values), 0, part)\n",
    "    if state:\n",
    "        return True\n",
    "    state = search(target, val, deepcopy(values), 1, part)\n",
    "    if state:\n",
    "        return True\n",
    "    \n",
    "    if part == 2:\n",
    "        state = search(target, val, deepcopy(values), 2, part)\n",
    "        if state:\n",
    "            return True\n",
    "    \n",
    "    return False\n",
    "\n",
    "def run(data, part=1):\n",
    "    lines = parse_data(data)\n",
    "    \n",
    "    result = 0\n",
    "    for target, values in lines.items():\n",
    "        if search(target, 0, deepcopy(values), -1, part):\n",
    "            result += target\n",
    "            \n",
    "    return result\n",
    "    \n",
    "print(run(test))\n",
    "print(run(test, 2))"
   ]
  },
  {
   "cell_type": "code",
   "execution_count": 4,
   "metadata": {},
   "outputs": [
    {
     "name": "stdout",
     "output_type": "stream",
     "text": [
      "Part 1 result: 5512534574980\n",
      "Part 2 result: 328790210468594\n"
     ]
    }
   ],
   "source": [
    "with open('input_day07.txt', 'r') as f:\n",
    "    data = f.readlines()\n",
    "    f.close()\n",
    "\n",
    "print('Part 1 result:', run(data))\n",
    "print('Part 2 result:', run(data, 2))"
   ]
  },
  {
   "cell_type": "code",
   "execution_count": null,
   "metadata": {},
   "outputs": [],
   "source": []
  }
 ],
 "metadata": {
  "kernelspec": {
   "display_name": "Python 3",
   "language": "python",
   "name": "python3"
  },
  "language_info": {
   "codemirror_mode": {
    "name": "ipython",
    "version": 3
   },
   "file_extension": ".py",
   "mimetype": "text/x-python",
   "name": "python",
   "nbconvert_exporter": "python",
   "pygments_lexer": "ipython3",
   "version": "3.7.4"
  }
 },
 "nbformat": 4,
 "nbformat_minor": 2
}
