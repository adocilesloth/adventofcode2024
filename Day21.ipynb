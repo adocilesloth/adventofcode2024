{
 "cells": [
  {
   "cell_type": "code",
   "execution_count": 1,
   "metadata": {},
   "outputs": [],
   "source": [
    "import numpy as np\n",
    "from collections import defaultdict"
   ]
  },
  {
   "cell_type": "code",
   "execution_count": 2,
   "metadata": {},
   "outputs": [],
   "source": [
    "test = ['029A',\n",
    "        '980A',\n",
    "        '179A',\n",
    "        '456A',\n",
    "        '379A']"
   ]
  },
  {
   "cell_type": "markdown",
   "metadata": {},
   "source": [
    "# Part 1"
   ]
  },
  {
   "cell_type": "code",
   "execution_count": 3,
   "metadata": {},
   "outputs": [
    {
     "name": "stdout",
     "output_type": "stream",
     "text": [
      "Part 1 result: 126384\n"
     ]
    }
   ],
   "source": [
    "key_num = {'7':np.array([0,0]), '8':np.array([0,1]), '9':np.array([0,2]),\n",
    "           '4':np.array([1,0]), '5':np.array([1,1]), '6':np.array([1,2]),\n",
    "           '1':np.array([2,0]), '2':np.array([2,1]), '3':np.array([2,2]),\n",
    "                                '0':np.array([3,1]), 'A':np.array([3,2])}\n",
    "\n",
    "key_dir = {                     '^':np.array([0,1]), 'A':np.array([0,2]),\n",
    "           '<':np.array([1,0]), 'v':np.array([1,1]), '>':np.array([1,2])}\n",
    "\n",
    "class robot():\n",
    "    def __init__(self, keypad=None, code=None, direction=0):\n",
    "        self.keypad = keypad\n",
    "        if self.keypad is None:\n",
    "            self.position = np.array([0,0])\n",
    "        else:\n",
    "            self.position = keypad['A']\n",
    "            \n",
    "        self.code = code\n",
    "        self.inputs = ''\n",
    "        \n",
    "        self.direction = direction\n",
    "        \n",
    "    def set_keypad(self, keypad):\n",
    "        self.keypad = keypad\n",
    "        self.position = keypad['A']\n",
    "        \n",
    "    def set_code(self, code):\n",
    "        self.code = code\n",
    "        self.inputs = ''\n",
    "        if self.keypad is not None:\n",
    "            self.position = self.keypad['A']\n",
    "            \n",
    "    def set_direction(self, direction):\n",
    "        self.direction = direction\n",
    "            \n",
    "    def move_lr(self, delta):\n",
    "        for y in range(0, abs(delta[1])):\n",
    "            if delta[1] < 0:\n",
    "                self.inputs += '<'\n",
    "            else:\n",
    "                self.inputs += '>'\n",
    "                \n",
    "    def move_ud(self, delta):\n",
    "        for x in range(0, abs(delta[0])):\n",
    "            if delta[0] < 0:\n",
    "                self.inputs += '^'\n",
    "            else:\n",
    "                self.inputs += 'v'\n",
    "        \n",
    "    def make_inputs(self):\n",
    "        if self.code is None:\n",
    "            raise Errormessage('No code enetered')\n",
    "            \n",
    "        for key in self.code:\n",
    "            next_position = self.keypad[key]\n",
    "            delta = next_position - self.position\n",
    "            \n",
    "            if '7' in self.keypad:\n",
    "                if self.position[0] == 3 and next_position[1] == 0:\n",
    "                    self.move_ud(delta)\n",
    "                    self.move_lr(delta)\n",
    "                elif self.position[1] == 0 and next_position[0] == 3:\n",
    "                    self.move_lr(delta)\n",
    "                    self.move_ud(delta)\n",
    "            \n",
    "                elif delta[1] < 0:\n",
    "                    self.move_lr(delta)\n",
    "                    self.move_ud(delta)\n",
    "                else:\n",
    "                    self.move_ud(delta)\n",
    "                    self.move_lr(delta)\n",
    "                    \n",
    "            elif '<' in self.keypad:\n",
    "                if key == '<':\n",
    "                    self.move_ud(delta)\n",
    "                    self.move_lr(delta)\n",
    "                elif np.array_equal(self.position, self.keypad['<']):\n",
    "                    self.move_lr(delta)\n",
    "                    self.move_ud(delta)\n",
    "                    \n",
    "                elif delta[1] < 0:\n",
    "                    self.move_lr(delta)\n",
    "                    self.move_ud(delta)\n",
    "                else:\n",
    "                    self.move_ud(delta)\n",
    "                    self.move_lr(delta)\n",
    "                            \n",
    "            self.inputs += 'A'\n",
    "            \n",
    "            self.position = next_position\n",
    "            \n",
    "    def get_inputs(self):\n",
    "        if self.inputs == '':\n",
    "            self.make_inputs()\n",
    "        return self.inputs\n",
    "    \n",
    "    def clear_inputs(self):\n",
    "        self.inputs = ''\n",
    "        \n",
    "def part1(data, part=1):\n",
    "    if part == 1:\n",
    "        robots = 2\n",
    "    else:\n",
    "        robots = 25\n",
    "    \n",
    "    total_score = 0\n",
    "    #data = [data[-1]]\n",
    "    robot1 = robot(key_num)\n",
    "    robot2 = robot(key_dir)\n",
    "    \n",
    "    for code in data:\n",
    "        code = code.strip()\n",
    "        \n",
    "        robot1.set_code(code)\n",
    "        sequence = robot1.get_inputs()\n",
    "            \n",
    "        for r in range(0, robots):\n",
    "            robot2.set_code(sequence)\n",
    "            sequence = robot2.get_inputs()\n",
    "                    \n",
    "        score = len(sequence)\n",
    "        \n",
    "        total_score += score*int(code[:-1])\n",
    "        \n",
    "    print('Part', part, 'result:', total_score)\n",
    "        \n",
    "part1(test, 1)"
   ]
  },
  {
   "cell_type": "code",
   "execution_count": 4,
   "metadata": {},
   "outputs": [
    {
     "name": "stdout",
     "output_type": "stream",
     "text": [
      "Part 1 result: 205160\n"
     ]
    }
   ],
   "source": [
    "with open('input_day21.txt', 'r') as f:\n",
    "    data = f.readlines()\n",
    "    f.close()\n",
    "    \n",
    "part1(data, 1)"
   ]
  },
  {
   "cell_type": "markdown",
   "metadata": {},
   "source": [
    "Part 1 will not scale well for Part 2 so..."
   ]
  },
  {
   "cell_type": "markdown",
   "metadata": {},
   "source": [
    "# Part 2"
   ]
  },
  {
   "cell_type": "code",
   "execution_count": 5,
   "metadata": {},
   "outputs": [
    {
     "name": "stdout",
     "output_type": "stream",
     "text": [
      "Part 1 result: 126384\n",
      "Part 2 result: 154115708116294\n"
     ]
    }
   ],
   "source": [
    "def get_parts(sequence):\n",
    "    parts = sequence.split('A')\n",
    "    parts = parts[:-1]\n",
    "    for i in range(0, len(parts)):\n",
    "        parts[i] += 'A'\n",
    "        \n",
    "    return parts\n",
    "\n",
    "def run(data, robots=2):\n",
    "    part1 = 2\n",
    "    robots = 25\n",
    "    \n",
    "    mapp = {}\n",
    "    \n",
    "    total_score = [0,0]\n",
    "    robot1 = robot(key_num)\n",
    "    robot2 = robot(key_dir)\n",
    "    \n",
    "    for code in data:\n",
    "        code = code.strip()\n",
    "        \n",
    "        robot1.set_code(code)\n",
    "        sequence = robot1.get_inputs()\n",
    "        \n",
    "        parts = get_parts(sequence)\n",
    "        current_sequence = defaultdict(int)\n",
    "        for part in parts:\n",
    "            current_sequence[part] += 1\n",
    "        \n",
    "        for r in range(0, robots):\n",
    "            next_sequence = defaultdict(int)\n",
    "            \n",
    "            for key in current_sequence.keys():\n",
    "                if key in mapp.keys():\n",
    "                    parts = mapp[key]\n",
    "                        \n",
    "                else:\n",
    "                    robot2.set_code(key)\n",
    "                    sequence = robot2.get_inputs()\n",
    "                    parts = get_parts(sequence)\n",
    "                    \n",
    "                for part in parts:\n",
    "                    next_sequence[part] += current_sequence[key]\n",
    "            \n",
    "            current_sequence = next_sequence\n",
    "            \n",
    "            if r == part1-1:\n",
    "                score = 0\n",
    "                for key, value in current_sequence.items():\n",
    "                    score += len(key)*value\n",
    "                total_score[0] += score*int(code[:-1])\n",
    "                    \n",
    "        score = 0\n",
    "        for key, value in current_sequence.items():\n",
    "            score += len(key)*value\n",
    "        \n",
    "        total_score[1] += score*int(code[:-1])\n",
    "        \n",
    "\n",
    "    print('Part 1 result:', total_score[0])\n",
    "    print('Part 2 result:', total_score[1])\n",
    "    \n",
    "run(test)"
   ]
  },
  {
   "cell_type": "code",
   "execution_count": 6,
   "metadata": {},
   "outputs": [
    {
     "name": "stdout",
     "output_type": "stream",
     "text": [
      "Part 1 result: 205160\n",
      "Part 2 result: 252473394928452\n"
     ]
    }
   ],
   "source": [
    "with open('input_day21.txt', 'r') as f:\n",
    "    data = f.readlines()\n",
    "    f.close()\n",
    "\n",
    "run(data)"
   ]
  },
  {
   "cell_type": "code",
   "execution_count": null,
   "metadata": {},
   "outputs": [],
   "source": []
  }
 ],
 "metadata": {
  "kernelspec": {
   "display_name": "Python 3",
   "language": "python",
   "name": "python3"
  },
  "language_info": {
   "codemirror_mode": {
    "name": "ipython",
    "version": 3
   },
   "file_extension": ".py",
   "mimetype": "text/x-python",
   "name": "python",
   "nbconvert_exporter": "python",
   "pygments_lexer": "ipython3",
   "version": "3.7.4"
  }
 },
 "nbformat": 4,
 "nbformat_minor": 2
}
