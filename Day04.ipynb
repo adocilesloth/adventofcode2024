{
 "cells": [
  {
   "cell_type": "code",
   "execution_count": 1,
   "id": "0e22b634",
   "metadata": {},
   "outputs": [],
   "source": [
    "import numpy as np"
   ]
  },
  {
   "cell_type": "code",
   "execution_count": 2,
   "id": "1c9339de",
   "metadata": {},
   "outputs": [],
   "source": [
    "test = ['MMMSXXMASM',\n",
    "        'MSAMXMSMSA',\n",
    "        'AMXSXMAAMM',\n",
    "        'MSAMASMSMX',\n",
    "        'XMASAMXAMM',\n",
    "        'XXAMMXXAMA',\n",
    "        'SMSMSASXSS',\n",
    "        'SAXAMASAAA',\n",
    "        'MAMMMXMMMM',\n",
    "        'MXMXAXMASX']"
   ]
  },
  {
   "cell_type": "code",
   "execution_count": 3,
   "id": "5472812f",
   "metadata": {},
   "outputs": [
    {
     "name": "stdout",
     "output_type": "stream",
     "text": [
      "18\n"
     ]
    }
   ],
   "source": [
    "def find_xmas(data):\n",
    "    count = 0\n",
    "    pos = [1,2,3]\n",
    "    x_dirs = [-1,0,1]\n",
    "    y_dirs = [-1,0,1]\n",
    "    for i, line in enumerate(data):       \n",
    "        xes = np.where(np.array(list(line)) == 'X')[0]\n",
    "        \n",
    "        for x in xes:\n",
    "            for dx in x_dirs:\n",
    "                x_m = x+(1*dx)\n",
    "                x_a = x+(2*dx)\n",
    "                x_s = x+(3*dx)\n",
    "                \n",
    "                if (x_m>=0 and x_m<len(line)) and \\\n",
    "                   (x_a>=0 and x_a<len(line)) and \\\n",
    "                   (x_s>=0 and x_s<len(line)):\n",
    "                \n",
    "                    for dy in y_dirs:\n",
    "                        y_m = i+(1*dy)\n",
    "                        y_a = i+(2*dy)\n",
    "                        y_s = i+(3*dy)\n",
    "                        \n",
    "                        if (y_m>=0 and y_m<len(data)) and \\\n",
    "                           (y_a>=0 and y_a<len(data)) and \\\n",
    "                           (y_s>=0 and y_s<len(data)):\n",
    "                            \n",
    "                            if data[y_m][x_m] == 'M' and data[y_a][x_a] == 'A' and data[y_s][x_s] == 'S':\n",
    "                                count += 1\n",
    "    return count\n",
    "            \n",
    "print(find_xmas(test))      "
   ]
  },
  {
   "cell_type": "code",
   "execution_count": 4,
   "id": "c62d1b97",
   "metadata": {},
   "outputs": [
    {
     "name": "stdout",
     "output_type": "stream",
     "text": [
      "Part 1 result: 2344\n"
     ]
    }
   ],
   "source": [
    "with open('input_day04.txt', 'r') as f:\n",
    "    data = f.readlines()\n",
    "    f.close()\n",
    "    \n",
    "print('Part 1 result:', find_xmas(data))"
   ]
  },
  {
   "cell_type": "code",
   "execution_count": 5,
   "id": "f5051e85",
   "metadata": {},
   "outputs": [
    {
     "name": "stdout",
     "output_type": "stream",
     "text": [
      "9\n"
     ]
    }
   ],
   "source": [
    "def find_x_mas(data):\n",
    "    count = 0\n",
    "    \n",
    "    for i, line in enumerate(data):\n",
    "        if i == 0 or i == len(data)-1:\n",
    "            continue\n",
    "        \n",
    "        aes = np.where(np.array(list(line)) == 'A')[0]\n",
    "        \n",
    "        for a in aes:\n",
    "            if a == 0 or a == len(line)-1:\n",
    "                continue\n",
    "            \n",
    "            if (data[i-1][a-1] == 'M' and data[i+1][a+1] == 'S') or\\\n",
    "               (data[i-1][a-1] == 'S' and data[i+1][a+1] == 'M'):\n",
    "                if (data[i-1][a+1] == 'M' and data[i+1][a-1] == 'S') or\\\n",
    "                   (data[i-1][a+1] == 'S' and data[i+1][a-1] == 'M'):\n",
    "                    count += 1\n",
    "    return count\n",
    "\n",
    "print(find_x_mas(test))"
   ]
  },
  {
   "cell_type": "code",
   "execution_count": 6,
   "id": "15fffeb4",
   "metadata": {},
   "outputs": [
    {
     "name": "stdout",
     "output_type": "stream",
     "text": [
      "Part 2 result: 1815\n"
     ]
    }
   ],
   "source": [
    "print('Part 2 result:', find_x_mas(data))"
   ]
  },
  {
   "cell_type": "code",
   "execution_count": null,
   "id": "e342a51e",
   "metadata": {},
   "outputs": [],
   "source": []
  }
 ],
 "metadata": {
  "kernelspec": {
   "display_name": "Python 3",
   "language": "python",
   "name": "python3"
  },
  "language_info": {
   "codemirror_mode": {
    "name": "ipython",
    "version": 3
   },
   "file_extension": ".py",
   "mimetype": "text/x-python",
   "name": "python",
   "nbconvert_exporter": "python",
   "pygments_lexer": "ipython3",
   "version": "3.9.12"
  }
 },
 "nbformat": 4,
 "nbformat_minor": 5
}
