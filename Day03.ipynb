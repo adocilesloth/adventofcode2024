{
 "cells": [
  {
   "cell_type": "code",
   "execution_count": 1,
   "id": "778757a9",
   "metadata": {},
   "outputs": [],
   "source": [
    "import re"
   ]
  },
  {
   "cell_type": "markdown",
   "id": "be52f770",
   "metadata": {},
   "source": [
    "# Part 1"
   ]
  },
  {
   "cell_type": "code",
   "execution_count": 2,
   "id": "8c13eab1",
   "metadata": {},
   "outputs": [],
   "source": [
    "test = 'xmul(2,4)%&mul[3,7]!@^do_not_mul(5,5)+mul(32,64]then(mul(11,8)mul(8,5))'"
   ]
  },
  {
   "cell_type": "code",
   "execution_count": 3,
   "id": "a38a1389",
   "metadata": {},
   "outputs": [
    {
     "name": "stdout",
     "output_type": "stream",
     "text": [
      "[8, 25, 88, 40] 161\n"
     ]
    }
   ],
   "source": [
    "def clean_string(data):\n",
    "    cln_str = re.findall('mul\\([0-9]{1,3},[0-9]{1,3}\\)', data)\n",
    "    return ''.join(cln_str)\n",
    "\n",
    "def do_mul(data):\n",
    "    mul = []\n",
    "    while len(data) > 4:\n",
    "        idx_open = data.find('(')\n",
    "        idx_clos = data.find(')')\n",
    "        \n",
    "        x, y = data[idx_open+1:idx_clos].split(',')\n",
    "        mul.append(int(x)*int(y))\n",
    "        data = data[idx_clos+1:]\n",
    "        \n",
    "    return mul\n",
    "\n",
    "cln_str = clean_string(test)\n",
    "mul = do_mul(cln_str)\n",
    "print(mul, sum(mul))"
   ]
  },
  {
   "cell_type": "code",
   "execution_count": 4,
   "id": "495c4d25",
   "metadata": {},
   "outputs": [
    {
     "name": "stdout",
     "output_type": "stream",
     "text": [
      "Part 1 result: 184576302\n"
     ]
    }
   ],
   "source": [
    "with open('input_day03.txt', 'r') as f:\n",
    "    data = ''\n",
    "    for line in f.readlines():\n",
    "        data += line\n",
    "    f.close()\n",
    "\n",
    "cln_data = clean_string(data)\n",
    "mul_data = do_mul(cln_data)\n",
    "sum_data = sum(mul_data)\n",
    "print('Part 1 result:', sum_data)"
   ]
  },
  {
   "cell_type": "markdown",
   "id": "0d37e3dc",
   "metadata": {},
   "source": [
    "# Part 2"
   ]
  },
  {
   "cell_type": "code",
   "execution_count": 5,
   "id": "2ec38984",
   "metadata": {},
   "outputs": [],
   "source": [
    "test2 = \"xmul(2,4)&mul[3,7]!^don't()_mul(5,5)+mul(32,64](mul(11,8)undo()?mul(8,5))\""
   ]
  },
  {
   "cell_type": "code",
   "execution_count": 6,
   "id": "2a701781",
   "metadata": {},
   "outputs": [
    {
     "name": "stdout",
     "output_type": "stream",
     "text": [
      "[8, 40] 48\n"
     ]
    }
   ],
   "source": [
    "def do_dont(data):  \n",
    "    start_stop = [0]\n",
    "    while True:\n",
    "        idx = data.find(\"don't()\", start_stop[-1])\n",
    "        if idx == -1:\n",
    "            start_stop.append(len(data))\n",
    "            break\n",
    "        start_stop.append(idx)\n",
    "        \n",
    "        idx = data.find(\"do()\", start_stop[-1])\n",
    "        if idx == -1:\n",
    "            break\n",
    "        start_stop.append(idx)\n",
    "    \n",
    "    do_data = ''\n",
    "    for i in range(0, len(start_stop), 2):\n",
    "        do_data += data[start_stop[i]:start_stop[i+1]]\n",
    "    return do_data\n",
    "    \n",
    "\n",
    "do_str = do_dont(test2)\n",
    "cln_str = clean_string(do_str)\n",
    "mul = do_mul(cln_str)\n",
    "print(mul, sum(mul))"
   ]
  },
  {
   "cell_type": "code",
   "execution_count": 7,
   "id": "eb656aab",
   "metadata": {},
   "outputs": [
    {
     "name": "stdout",
     "output_type": "stream",
     "text": [
      "Part 2 result: 118173507\n"
     ]
    }
   ],
   "source": [
    "doo_data = do_dont(data)\n",
    "cln_data = clean_string(doo_data)\n",
    "mul_data = do_mul(cln_data)\n",
    "sum_data = sum(mul_data)\n",
    "print('Part 2 result:', sum_data)"
   ]
  },
  {
   "cell_type": "code",
   "execution_count": null,
   "id": "8c1ceacc",
   "metadata": {},
   "outputs": [],
   "source": []
  }
 ],
 "metadata": {
  "kernelspec": {
   "display_name": "Python 3",
   "language": "python",
   "name": "python3"
  },
  "language_info": {
   "codemirror_mode": {
    "name": "ipython",
    "version": 3
   },
   "file_extension": ".py",
   "mimetype": "text/x-python",
   "name": "python",
   "nbconvert_exporter": "python",
   "pygments_lexer": "ipython3",
   "version": "3.9.12"
  }
 },
 "nbformat": 4,
 "nbformat_minor": 5
}
