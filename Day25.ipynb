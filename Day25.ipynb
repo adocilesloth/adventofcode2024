{
 "cells": [
  {
   "cell_type": "code",
   "execution_count": 1,
   "metadata": {},
   "outputs": [],
   "source": [
    "import numpy as np"
   ]
  },
  {
   "cell_type": "code",
   "execution_count": 2,
   "metadata": {},
   "outputs": [],
   "source": [
    "test = ['#####',\n",
    "        '.####',\n",
    "        '.####',\n",
    "        '.####',\n",
    "        '.#.#.',\n",
    "        '.#...',\n",
    "        '.....',\n",
    "        '',\n",
    "        '#####',\n",
    "        '##.##',\n",
    "        '.#.##',\n",
    "        '...##',\n",
    "        '...#.',\n",
    "        '...#.',\n",
    "        '.....',\n",
    "        '',\n",
    "        '.....',\n",
    "        '#....',\n",
    "        '#....',\n",
    "        '#...#',\n",
    "        '#.#.#',\n",
    "        '#.###',\n",
    "        '#####',\n",
    "        '',\n",
    "        '.....',\n",
    "        '.....',\n",
    "        '#.#..',\n",
    "        '###..',\n",
    "        '###.#',\n",
    "        '###.#',\n",
    "        '#####',\n",
    "        '',\n",
    "        '.....',\n",
    "        '.....',\n",
    "        '.....',\n",
    "        '#....',\n",
    "        '#.#..',\n",
    "        '#.#.#',\n",
    "        '#####']"
   ]
  },
  {
   "cell_type": "code",
   "execution_count": 3,
   "metadata": {},
   "outputs": [
    {
     "name": "stdout",
     "output_type": "stream",
     "text": [
      "Part 1 result: 3\n"
     ]
    }
   ],
   "source": [
    "def get_locks_keys(data):\n",
    "    if data[-1] != '' and data[-1] != '\\n':\n",
    "        data.append('\\n')\n",
    "    \n",
    "    locks = []\n",
    "    keys = []\n",
    "    \n",
    "    diagram = []\n",
    "    for line in data:\n",
    "        line = line.strip()\n",
    "        if len(line) == 0:\n",
    "            diagram = np.array(diagram)\n",
    "            \n",
    "            bitting = np.sum(diagram, axis=0)\n",
    "            bitting -= 1\n",
    "            \n",
    "            if diagram[0,0]:\n",
    "                locks.append(bitting)\n",
    "            else:\n",
    "                keys.append(bitting)\n",
    "            diagram = []\n",
    "            \n",
    "        else:\n",
    "            dig = []\n",
    "            for c in line:\n",
    "                if c == '#':\n",
    "                    dig.append(1)\n",
    "                else:\n",
    "                    dig.append(0)\n",
    "            diagram.append(dig)\n",
    "            \n",
    "    return np.array(locks), np.array(keys)\n",
    "\n",
    "def count_fits(locks, keys):\n",
    "    count = 0\n",
    "    for l, lock in enumerate(locks):\n",
    "        for k, key in enumerate(keys):\n",
    "            max_pos = np.max(lock+key)\n",
    "            if max_pos <= 5:\n",
    "                count += 1\n",
    "    return count\n",
    "\n",
    "def part1(data):\n",
    "    locks, keys = get_locks_keys(data)\n",
    "    count = count_fits(locks, keys)\n",
    "    print('Part 1 result:', count)\n",
    "    \n",
    "part1(test)"
   ]
  },
  {
   "cell_type": "code",
   "execution_count": 4,
   "metadata": {},
   "outputs": [
    {
     "name": "stdout",
     "output_type": "stream",
     "text": [
      "Part 1 result: 3077\n"
     ]
    }
   ],
   "source": [
    "with open('input_day25.txt', 'r') as f:\n",
    "    data = f.readlines()\n",
    "    f.close()\n",
    "    \n",
    "part1(data)"
   ]
  },
  {
   "cell_type": "code",
   "execution_count": null,
   "metadata": {},
   "outputs": [],
   "source": []
  }
 ],
 "metadata": {
  "kernelspec": {
   "display_name": "Python 3",
   "language": "python",
   "name": "python3"
  },
  "language_info": {
   "codemirror_mode": {
    "name": "ipython",
    "version": 3
   },
   "file_extension": ".py",
   "mimetype": "text/x-python",
   "name": "python",
   "nbconvert_exporter": "python",
   "pygments_lexer": "ipython3",
   "version": "3.7.4"
  }
 },
 "nbformat": 4,
 "nbformat_minor": 2
}
