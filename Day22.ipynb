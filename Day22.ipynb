{
 "cells": [
  {
   "cell_type": "code",
   "execution_count": 1,
   "metadata": {},
   "outputs": [],
   "source": [
    "import numpy as np\n",
    "from collections import defaultdict"
   ]
  },
  {
   "cell_type": "code",
   "execution_count": 2,
   "metadata": {},
   "outputs": [],
   "source": [
    "test1 = ['1',\n",
    "         '10',\n",
    "         '100',\n",
    "         '2024']\n",
    "\n",
    "test2 = ['1',\n",
    "         '2',\n",
    "         '3',\n",
    "         '2024']"
   ]
  },
  {
   "cell_type": "code",
   "execution_count": 3,
   "metadata": {},
   "outputs": [
    {
     "name": "stdout",
     "output_type": "stream",
     "text": [
      "Part 1 result: 37327623\n",
      "Part 2 result: 24\n",
      "Part 1 result: 37990510\n",
      "Part 2 result: 23\n"
     ]
    }
   ],
   "source": [
    "def next_number(secret):\n",
    "    mid_number = secret*64\n",
    "    secret = mid_number^secret\n",
    "    secret = secret%16777216\n",
    "    \n",
    "    mid_number = int(secret//32)\n",
    "    secret = mid_number^secret\n",
    "    secret = secret%16777216\n",
    "    \n",
    "    mid_number = secret*2048\n",
    "    secret = mid_number^secret\n",
    "    secret = secret%16777216\n",
    "    \n",
    "    return secret\n",
    "\n",
    "def sequence_index(sequence, delta):\n",
    "    for i in range(0, len(delta)-4):\n",
    "        if delta[i] == sequence[0] and\\\n",
    "           delta[i+1] == sequence[1] and\\\n",
    "           delta[i+2] == sequence[2] and\\\n",
    "           delta[i+3] == sequence[3]:\n",
    "                return i+4\n",
    "    return -1\n",
    "\n",
    "def get_sequence_bananas(prices, deltas):\n",
    "    bananas = defaultdict(int)\n",
    "    for d, delta in enumerate(deltas):\n",
    "        completed = []\n",
    "        for i in range(0, len(delta)-4):\n",
    "            sequence = delta[i:i+4]\n",
    "            tup_seq = tuple(sequence.tolist())\n",
    "            \n",
    "            if tup_seq in completed:\n",
    "                continue\n",
    "                \n",
    "            bananas[tup_seq] += prices[d][i+4]\n",
    "            completed.append(tup_seq)\n",
    "            \n",
    "    return bananas\n",
    "\n",
    "def get_most_bananas(prices, deltas):\n",
    "    bananas = get_sequence_bananas(prices, deltas)\n",
    "    max_bananas = max(list(bananas.values()))\n",
    "    return max_bananas\n",
    "            \n",
    "\n",
    "def run(data):\n",
    "    buyers = 0\n",
    "    prices = []\n",
    "    deltas = []\n",
    "    for line in data:\n",
    "        line = line.strip()\n",
    "        secret = int(line)\n",
    "        price = [secret%10]\n",
    "        \n",
    "        for i in range(0, 2000):\n",
    "            secret = next_number(secret)\n",
    "            price.append(secret%10)\n",
    "            \n",
    "        buyers += secret\n",
    "        prices.append(np.array(price))\n",
    "        deltas.append(np.diff(prices[-1]))\n",
    "        \n",
    "    print('Part 1 result:', buyers)\n",
    "    \n",
    "    best_banana = get_most_bananas(prices, deltas)\n",
    "    \n",
    "    print('Part 2 result:', best_banana)\n",
    "    \n",
    "run(test1)\n",
    "run(test2)"
   ]
  },
  {
   "cell_type": "code",
   "execution_count": 4,
   "metadata": {},
   "outputs": [
    {
     "name": "stdout",
     "output_type": "stream",
     "text": [
      "Part 1 result: 19927218456\n",
      "Part 2 result: 2189\n"
     ]
    }
   ],
   "source": [
    "with open('input_day22.txt', 'r') as f:\n",
    "    data = f.readlines()\n",
    "    f.close()\n",
    "    \n",
    "run(data)"
   ]
  },
  {
   "cell_type": "code",
   "execution_count": null,
   "metadata": {},
   "outputs": [],
   "source": []
  }
 ],
 "metadata": {
  "kernelspec": {
   "display_name": "Python 3",
   "language": "python",
   "name": "python3"
  },
  "language_info": {
   "codemirror_mode": {
    "name": "ipython",
    "version": 3
   },
   "file_extension": ".py",
   "mimetype": "text/x-python",
   "name": "python",
   "nbconvert_exporter": "python",
   "pygments_lexer": "ipython3",
   "version": "3.7.4"
  }
 },
 "nbformat": 4,
 "nbformat_minor": 2
}
