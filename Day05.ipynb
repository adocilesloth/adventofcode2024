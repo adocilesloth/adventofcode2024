{
 "cells": [
  {
   "cell_type": "code",
   "execution_count": 1,
   "id": "a1cace3b-7e58-4fc2-8bb8-63e87dbf1a54",
   "metadata": {},
   "outputs": [],
   "source": [
    "import numpy as np\n",
    "from collections import defaultdict"
   ]
  },
  {
   "cell_type": "code",
   "execution_count": 2,
   "id": "83d85dee-3676-49db-8093-d708e0030c43",
   "metadata": {},
   "outputs": [],
   "source": [
    "test = ['47|53',\n",
    "        '97|13',\n",
    "        '97|61',\n",
    "        '97|47',\n",
    "        '75|29',\n",
    "        '61|13',\n",
    "        '75|53',\n",
    "        '29|13',\n",
    "        '97|29',\n",
    "        '53|29',\n",
    "        '61|53',\n",
    "        '97|53',\n",
    "        '61|29',\n",
    "        '47|13',\n",
    "        '75|47',\n",
    "        '97|75',\n",
    "        '47|61',\n",
    "        '75|61',\n",
    "        '47|29',\n",
    "        '75|13',\n",
    "        '53|13',\n",
    "        '',\n",
    "        '75,47,61,53,29',\n",
    "        '97,61,53,29,13',\n",
    "        '75,29,13',\n",
    "        '75,97,47,61,53',\n",
    "        '61,13,29',\n",
    "        '97,13,75,29,47']"
   ]
  },
  {
   "cell_type": "code",
   "execution_count": 3,
   "id": "2f16fcfe-4952-40e2-a691-0790e8da772c",
   "metadata": {},
   "outputs": [],
   "source": [
    "def parse_input(data):\n",
    "    after = defaultdict(list)\n",
    "    updates = []\n",
    "    \n",
    "    for line in data:\n",
    "        line = line.strip()\n",
    "        if '|' in line:\n",
    "            a, b = line.split('|')\n",
    "            after[a].append(b)\n",
    "        elif ',' in line:\n",
    "            updates.append(line.split(','))\n",
    "    return after, updates"
   ]
  },
  {
   "cell_type": "markdown",
   "id": "b1a89251-b313-4bd2-83b6-41068148b50a",
   "metadata": {},
   "source": [
    "# Part 1"
   ]
  },
  {
   "cell_type": "code",
   "execution_count": 4,
   "id": "a9322339-9d7d-46a7-8c80-f16a5d94d252",
   "metadata": {},
   "outputs": [
    {
     "name": "stdout",
     "output_type": "stream",
     "text": [
      "143\n"
     ]
    }
   ],
   "source": [
    "def part1(after, updates):\n",
    "    score = 0\n",
    "    for update in updates:\n",
    "        good = True\n",
    "        for i, page in enumerate(update):\n",
    "            if i == 0:\n",
    "                continue\n",
    "\n",
    "            sub = update[:i]\n",
    "            match = np.intersect1d(after[page], sub)\n",
    "            if len(match) > 0:\n",
    "                good = False\n",
    "                break\n",
    "        \n",
    "        if good == True:\n",
    "            page_num = len(update)\n",
    "            idx = (page_num//2)\n",
    "            score += int(update[idx])\n",
    "\n",
    "    return score\n",
    "\n",
    "test_parse = parse_input(test)\n",
    "print(part1(*test_parse))"
   ]
  },
  {
   "cell_type": "code",
   "execution_count": 5,
   "id": "12f60eaa-0fcd-43ff-b773-7933c86545ce",
   "metadata": {},
   "outputs": [
    {
     "name": "stdout",
     "output_type": "stream",
     "text": [
      "Part 1 result: 4662\n"
     ]
    }
   ],
   "source": [
    "with open('input_day05.txt', 'r') as f:\n",
    "    data = f.readlines()\n",
    "    f.close()\n",
    "\n",
    "data_parse = parse_input(data)\n",
    "print('Part 1 result:', part1(*data_parse))"
   ]
  },
  {
   "cell_type": "markdown",
   "id": "2a070fba-4091-437e-b4d4-ee2ccc866643",
   "metadata": {},
   "source": [
    "# Part 2"
   ]
  },
  {
   "cell_type": "code",
   "execution_count": 6,
   "id": "f5c28af7-a869-42ec-a00c-f976971137dd",
   "metadata": {},
   "outputs": [
    {
     "name": "stdout",
     "output_type": "stream",
     "text": [
      "123\n"
     ]
    }
   ],
   "source": [
    "def fix_update(after, update):\n",
    "    bad = True\n",
    "    while bad:\n",
    "        bad = False\n",
    "        for i, page in enumerate(update):\n",
    "            if i == 0:\n",
    "                continue\n",
    "            sub = update[:i]\n",
    "            match = np.intersect1d(after[page], sub)\n",
    "            if len(match) > 0:\n",
    "                bad = True\n",
    "                bad_idx = np.where(np.array(update) == match[0])[0][0]\n",
    "                new_update = []\n",
    "                for j in range(0, len(update)):\n",
    "                    if j == bad_idx:\n",
    "                        continue\n",
    "                    new_update.append(update[j])\n",
    "                    if j == i:\n",
    "                        new_update.append(update[bad_idx])\n",
    "                update = new_update\n",
    "                break\n",
    "    return update\n",
    "\n",
    "def part2(after, updates):\n",
    "    score = 0\n",
    "    for update in updates:\n",
    "        good = True\n",
    "        for i, page in enumerate(update):\n",
    "            if i == 0:\n",
    "                continue\n",
    "\n",
    "            sub = update[:i]\n",
    "            match = np.intersect1d(after[page], sub)\n",
    "            if len(match) > 0:\n",
    "                good = False\n",
    "                update = fix_update(after, update)\n",
    "                break\n",
    "        \n",
    "        if good == False:\n",
    "            page_num = len(update)\n",
    "            idx = (page_num//2)\n",
    "            score += int(update[idx])\n",
    "\n",
    "    return score\n",
    "\n",
    "test_parse = parse_input(test)\n",
    "print(part2(*test_parse))"
   ]
  },
  {
   "cell_type": "code",
   "execution_count": 7,
   "id": "b75f7db6-14ac-4e9c-8acb-46be2fdfc8d2",
   "metadata": {},
   "outputs": [
    {
     "name": "stdout",
     "output_type": "stream",
     "text": [
      "Part 2 result: 5900\n"
     ]
    }
   ],
   "source": [
    "print('Part 2 result:', part2(*data_parse))"
   ]
  },
  {
   "cell_type": "code",
   "execution_count": null,
   "id": "b9225dec-87a0-4917-b0dc-16f35e5a7f24",
   "metadata": {},
   "outputs": [],
   "source": []
  }
 ],
 "metadata": {
  "kernelspec": {
   "display_name": "Python 3 (ipykernel)",
   "language": "python",
   "name": "python3"
  },
  "language_info": {
   "codemirror_mode": {
    "name": "ipython",
    "version": 3
   },
   "file_extension": ".py",
   "mimetype": "text/x-python",
   "name": "python",
   "nbconvert_exporter": "python",
   "pygments_lexer": "ipython3",
   "version": "3.12.3"
  }
 },
 "nbformat": 4,
 "nbformat_minor": 5
}
