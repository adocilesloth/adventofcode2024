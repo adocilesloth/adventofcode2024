{
 "cells": [
  {
   "cell_type": "code",
   "execution_count": 1,
   "id": "ddec7723",
   "metadata": {},
   "outputs": [],
   "source": [
    "import numpy as np"
   ]
  },
  {
   "cell_type": "code",
   "execution_count": 2,
   "id": "5212f0ae",
   "metadata": {},
   "outputs": [],
   "source": [
    "test = ['Button A: X+94, Y+34',\n",
    "        'Button B: X+22, Y+67',\n",
    "        'Prize: X=8400, Y=5400',\n",
    "        '',\n",
    "        'Button A: X+26, Y+66',\n",
    "        'Button B: X+67, Y+21',\n",
    "        'Prize: X=12748, Y=12176',\n",
    "        '',\n",
    "        'Button A: X+17, Y+86',\n",
    "        'Button B: X+84, Y+37',\n",
    "        'Prize: X=7870, Y=6450',\n",
    "        '',\n",
    "        'Button A: X+69, Y+23',\n",
    "        'Button B: X+27, Y+71',\n",
    "        'Prize: X=18641, Y=10279']\n",
    "test.append('')"
   ]
  },
  {
   "cell_type": "code",
   "execution_count": 3,
   "id": "d80bd13f",
   "metadata": {},
   "outputs": [
    {
     "name": "stdout",
     "output_type": "stream",
     "text": [
      "Part 1 result: 480\n",
      "Part 2 result: 875318608908\n"
     ]
    }
   ],
   "source": [
    "def get_machines(data):\n",
    "    machines = []\n",
    "    machine = {}\n",
    "    for line in data:\n",
    "        line = line.strip()\n",
    "        \n",
    "        if len(line) == 0:\n",
    "            machines.append(machine)\n",
    "            machine = {}\n",
    "            continue\n",
    "        \n",
    "        info, xy = line.split(':')\n",
    "        x, y = xy.split(', ')\n",
    "        if info[0] == 'B':\n",
    "            button = info[-1]\n",
    "            _, x = x.split('+')\n",
    "            _, y = y.split('+')\n",
    "            machine[button] = [int(x), int(y)]\n",
    "        else:\n",
    "            _, x = x.split('=')\n",
    "            _, y = y.split('=')\n",
    "            machine['prize'] = [int(x), int(y)]\n",
    "            \n",
    "    return machines\n",
    "\n",
    "def solve_machine(machine, prize_delta=0):\n",
    "    buttons = np.array([[machine['A'][0],machine['B'][0]], [machine['A'][1],machine['B'][1]]])\n",
    "    prize = np.array(machine['prize'])+prize_delta\n",
    "    \n",
    "    presses = np.linalg.solve(buttons, prize)\n",
    "    return presses\n",
    "    \n",
    "def run(data, prize_delta=0):\n",
    "    cost=[3,1]\n",
    "    if prize_delta == 0:\n",
    "        part = 1\n",
    "    else:\n",
    "        part = 2\n",
    "        \n",
    "    machines = get_machines(data)\n",
    "    tokens = 0\n",
    "    \n",
    "    for machine in machines:\n",
    "        presses = solve_machine(machine, prize_delta)\n",
    "        if part == 1 and (presses[0]>100 or presses[1]>100):\n",
    "            continue\n",
    "        elif presses[0] < 0 or presses[1] < 0:\n",
    "            continue\n",
    "        elif round(presses[0],2)-round(presses[0],0)==0 and round(presses[1],2)-round(presses[1],0)==0:\n",
    "            tokens += cost[0]*int(round(presses[0],0))\n",
    "            tokens += cost[1]*int(round(presses[1],0))\n",
    "        else:\n",
    "            continue\n",
    "            \n",
    "    print('Part', part, 'result:', tokens)\n",
    "    \n",
    "run(test)\n",
    "run(test, 10000000000000)"
   ]
  },
  {
   "cell_type": "code",
   "execution_count": 4,
   "id": "062bfed5",
   "metadata": {},
   "outputs": [
    {
     "name": "stdout",
     "output_type": "stream",
     "text": [
      "Part 1 result: 33481\n",
      "Part 2 result: 92572057880885\n"
     ]
    }
   ],
   "source": [
    "with open('input_day13.txt', 'r') as f:\n",
    "    data = f.readlines()\n",
    "    data.append('')\n",
    "    f.close()\n",
    "    \n",
    "run(data)\n",
    "run(data, 10000000000000)"
   ]
  },
  {
   "cell_type": "code",
   "execution_count": null,
   "id": "760dc816",
   "metadata": {},
   "outputs": [],
   "source": []
  }
 ],
 "metadata": {
  "kernelspec": {
   "display_name": "Python 3",
   "language": "python",
   "name": "python3"
  },
  "language_info": {
   "codemirror_mode": {
    "name": "ipython",
    "version": 3
   },
   "file_extension": ".py",
   "mimetype": "text/x-python",
   "name": "python",
   "nbconvert_exporter": "python",
   "pygments_lexer": "ipython3",
   "version": "3.9.12"
  }
 },
 "nbformat": 4,
 "nbformat_minor": 5
}
