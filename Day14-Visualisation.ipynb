{
 "cells": [
  {
   "cell_type": "code",
   "execution_count": 1,
   "metadata": {},
   "outputs": [],
   "source": [
    "import numpy as np\n",
    "from copy import deepcopy\n",
    "\n",
    "from PIL import Image\n",
    "import imageio\n",
    "\n",
    "import matplotlib.pyplot as plt\n",
    "%matplotlib inline"
   ]
  },
  {
   "cell_type": "code",
   "execution_count": 2,
   "metadata": {},
   "outputs": [
    {
     "data": {
      "image/png": "[encoded data removed]",
      "text/plain": [
       "<Figure size 432x288 with 1 Axes>"
      ]
     },
     "metadata": {
      "needs_background": "light"
     },
     "output_type": "display_data"
    }
   ],
   "source": [
    "def get_robots(data):\n",
    "    positions = []\n",
    "    velocitys = []\n",
    "    \n",
    "    for line in data:\n",
    "        p, v = line.strip().split()\n",
    "        \n",
    "        p = p[2:]\n",
    "        x, y = p.split(',')\n",
    "        positions.append([int(x),int(y)])\n",
    "        \n",
    "        v = v[2:]\n",
    "        x, y = v.split(',')\n",
    "        velocitys.append([int(x),int(y)])\n",
    "        \n",
    "    return np.array(positions), np.array(velocitys)\n",
    "\n",
    "def run_robots(positions, velocitys, time=100, x=101, y=103):\n",
    "    \n",
    "    for t in range(1, time+1):\n",
    "        positions += velocitys\n",
    "        \n",
    "        bad_x = np.where(positions[:,0] >= x)[0]\n",
    "        positions[bad_x,0] -= x\n",
    "        bad_x = np.where(positions[:,0] < 0)[0]\n",
    "        positions[bad_x,0] += x\n",
    "        \n",
    "        bad_y = np.where(positions[:,1] >= y)[0]\n",
    "        positions[bad_y,1] -= y\n",
    "        bad_y = np.where(positions[:,1] < 0)[0]\n",
    "        positions[bad_y,1] += y\n",
    "        \n",
    "    return positions\n",
    "\n",
    "def quadrant_count(positions, x=101, y=103):\n",
    "    q = []\n",
    "    x0 = x//2\n",
    "    y0 = y//2\n",
    "    \n",
    "    in_q = np.where(np.logical_and(positions[:,0] < x0, positions[:,1] < y0))[0]\n",
    "    q.append(len(in_q))\n",
    "    \n",
    "    in_q = np.where(np.logical_and(positions[:,0] < x0, positions[:,1] > y0))[0]\n",
    "    q.append(len(in_q))\n",
    "    \n",
    "    in_q = np.where(np.logical_and(positions[:,0] > x0, positions[:,1] < y0))[0]\n",
    "    q.append(len(in_q))\n",
    "    \n",
    "    in_q = np.where(np.logical_and(positions[:,0] > x0, positions[:,1] > y0))[0]\n",
    "    q.append(len(in_q))\n",
    "    \n",
    "    return np.array(q)\n",
    "\n",
    "def make_frames(x=101, y=103, time=6377):\n",
    "    with open('input_day14.txt', 'r') as f:\n",
    "        data = f.readlines()\n",
    "        f.close()\n",
    "    \n",
    "    positions, velocitys = get_robots(data)\n",
    "    image = np.ones((y,x,3), dtype=int)*119\n",
    "    for position in positions:\n",
    "        image[position[1],position[0]] = np.array([78,178,101])\n",
    "\n",
    "    frame = Image.fromarray(image.astype('uint8'), mode='RGB')\n",
    "    frame = frame.resize((image.shape[0]*8,image.shape[1]*8), resample=Image.NEAREST)\n",
    "    frame.save('./Day14-Frames/day14_'+str(0).zfill(4)+'.png')\n",
    "    \n",
    "    for t in range(1, time+1):\n",
    "        positions = run_robots(positions, velocitys, 1, x, y)\n",
    "        \n",
    "        image = np.ones((y,x,3), dtype=int)*119\n",
    "        for position in positions:\n",
    "            image[position[1],position[0]] = np.array([78,178,101])\n",
    "        \n",
    "        frame = Image.fromarray(image.astype('uint8'), mode='RGB')\n",
    "        frame = frame.resize((image.shape[0]*8,image.shape[1]*8), resample=Image.NEAREST)\n",
    "        frame.save('./Day14-Frames/day14_'+str(t).zfill(4)+'.png')\n",
    "        \n",
    "    plt.imshow(image)\n",
    "    plt.show()\n",
    "    \n",
    "make_frames()"
   ]
  },
  {
   "cell_type": "code",
   "execution_count": 5,
   "metadata": {},
   "outputs": [],
   "source": [
    "from shutil import copy\n",
    "for t in range(6377+1, 6377+121):\n",
    "    copy('./Day14-Frames/day14_6377.png', './Day14-Frames/day14_'+str(t).zfill(4)+'.png')"
   ]
  },
  {
   "cell_type": "code",
   "execution_count": null,
   "metadata": {},
   "outputs": [],
   "source": []
  }
 ],
 "metadata": {
  "kernelspec": {
   "display_name": "Python 3",
   "language": "python",
   "name": "python3"
  },
  "language_info": {
   "codemirror_mode": {
    "name": "ipython",
    "version": 3
   },
   "file_extension": ".py",
   "mimetype": "text/x-python",
   "name": "python",
   "nbconvert_exporter": "python",
   "pygments_lexer": "ipython3",
   "version": "3.7.4"
  }
 },
 "nbformat": 4,
 "nbformat_minor": 2
}
